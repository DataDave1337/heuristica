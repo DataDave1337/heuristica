{
 "cells": [
  {
   "cell_type": "code",
   "execution_count": null,
   "metadata": {},
   "outputs": [],
   "source": [
    "import pandas as pd\n",
    "import matplotlib.pyplot as plt\n",
    "from sklearn import datasets\n",
    "import seaborn as sns\n",
    "from ipywidgets import interact\n",
    "import ipywidgets as widgets\n",
    "\n",
    "%matplotlib inline"
   ]
  },
  {
   "cell_type": "code",
   "execution_count": null,
   "metadata": {},
   "outputs": [],
   "source": [
    "df = datasets.load_iris(as_frame=True)['frame']"
   ]
  },
  {
   "cell_type": "code",
   "execution_count": null,
   "metadata": {},
   "outputs": [],
   "source": [
    "df"
   ]
  },
  {
   "cell_type": "code",
   "execution_count": null,
   "metadata": {},
   "outputs": [],
   "source": [
    "sns.pairplot(df, hue='target')"
   ]
  },
  {
   "cell_type": "markdown",
   "metadata": {},
   "source": [
    "## Assign binary target"
   ]
  },
  {
   "cell_type": "code",
   "execution_count": null,
   "metadata": {},
   "outputs": [],
   "source": [
    "df.loc[df['target']==2, 'bin_target'] = 1\n",
    "df.loc[df['target']!=2, 'bin_target'] = 0"
   ]
  },
  {
   "cell_type": "code",
   "execution_count": null,
   "metadata": {},
   "outputs": [],
   "source": [
    "scatter_cols = ['sepal length (cm)',\n",
    "                'sepal width (cm)',\n",
    "                'petal length (cm)',\n",
    "                'petal width (cm)']\n",
    "col_col = 'bin_target'\n",
    "pair_plot = sns.pairplot(df[scatter_cols+[col_col]], hue=col_col)\n",
    "pair_plot.axes;"
   ]
  },
  {
   "cell_type": "markdown",
   "metadata": {},
   "source": [
    "### mark points covered by rule"
   ]
  },
  {
   "cell_type": "code",
   "execution_count": null,
   "metadata": {},
   "outputs": [],
   "source": [
    "sns.palplot(sns.color_palette(\"Paired\"))"
   ]
  },
  {
   "cell_type": "code",
   "execution_count": null,
   "metadata": {},
   "outputs": [],
   "source": [
    "def assign_result(data, rule_attr, attr_min=None, attr_max=None):\n",
    "    df = data\n",
    "\n",
    "    df['rule_flag'] = 0\n",
    "    df.loc[df[rule_attr].between(attr_min, attr_max, inclusive=True), 'rule_flag'] = 1\n",
    "\n",
    "    df.loc[(df['rule_flag'] == 0) & (df['bin_target'] == 0), 'result'] = 'True Negatives'\n",
    "    df.loc[(df['rule_flag'] == 1) & (df['bin_target'] == 0), 'result'] = 'Falsely covered'\n",
    "    df.loc[(df['rule_flag'] == 0) & (df['bin_target'] == 1), 'result'] = 'Not covered'\n",
    "    df.loc[(df['rule_flag'] == 1) & (df['bin_target'] == 1), 'result'] = 'Rightly covered'\n",
    "\n",
    "\n",
    "def create_colormap():\n",
    "    cmap = sns.color_palette(\"Paired\")\n",
    "\n",
    "    # scatter plot rule results\n",
    "    col_col = 'result'\n",
    "    cmap = {\n",
    "        'True Negatives': cmap[0],\n",
    "        'Falsely covered': cmap[1],\n",
    "        'Not covered': cmap[2],\n",
    "        'Rightly covered': cmap[3]\n",
    "    }\n",
    "#     cmap = {\n",
    "#         'True Negatives': 'C0',\n",
    "#         'Falsely covered': 'C3',\n",
    "#         'Not covered': 'C4',\n",
    "#         'Rightly covered': 'C2'\n",
    "#     }\n",
    "\n",
    "    return cmap\n",
    "\n",
    "def scatter_rule(data, scatter_cols, rule_attr, attr_min=None, attr_max=None):\n",
    "    df = data\n",
    "\n",
    "    # assign rule results\n",
    "    if attr_min is None:\n",
    "        attr_min = df[rule_attr].min()\n",
    "\n",
    "    if attr_max is None:\n",
    "        attr_max = df[rule_attr].max()\n",
    "    assign_result(df, rule_attr, attr_min, attr_max)\n",
    "    \n",
    "    # scatter plot rule results\n",
    "    col_col = 'result'\n",
    "    cmap = create_colormap()\n",
    "    \n",
    "    pair_plot = sns.pairplot(df[scatter_cols+[col_col]],\n",
    "                             hue=col_col,\n",
    "                             palette=cmap,\n",
    "                             diag_kind='hist',\n",
    "                             diag_kws={'alpha': 0.7})\n",
    "    # plot rule coverage\n",
    "    col_axes = pair_plot.axes[:, scatter_cols.index(rule_attr)]\n",
    "    row_axes = pair_plot.axes[scatter_cols.index(rule_attr), :]\n",
    "    for ax in col_axes:\n",
    "        ax.axvspan(attr_min, attr_max, alpha=0.2, color='C1')\n",
    "    for ax in row_axes:\n",
    "        ax.axhspan(attr_min, attr_max, alpha=0.2, color='C1')\n",
    "    plt.show()\n",
    "    print_additional_stats(df)\n",
    "    \n",
    "def print_additional_stats(data):\n",
    "    conf_mat = pd.crosstab(data['bin_target'], data['rule_flag'])\n",
    "    result_counts = data['result'].value_counts()\n",
    "\n",
    "    confidence = result_counts['Rightly covered'] / (result_counts['Falsely covered'] + result_counts['Rightly covered'])\n",
    "    support = data['rule_flag'].sum()/len(data)\n",
    "    target_rate = data['bin_target'].sum()/len(data)\n",
    "    lift = confidence / target_rate\n",
    "    recall = result_counts['Rightly covered'] / (result_counts['Not covered'] + result_counts['Rightly covered'])\n",
    "    print(f'''\n",
    "    Rule confidence: {confidence: 0.3f}\n",
    "    Support:         {support: 0.3f}\n",
    "    Lift:            {lift: 0.3f}\n",
    "    Recall:          {recall:0.3f}\n",
    "    -----------------------------''')\n",
    "    display(conf_mat, data['result'].value_counts())"
   ]
  },
  {
   "cell_type": "code",
   "execution_count": null,
   "metadata": {},
   "outputs": [],
   "source": [
    "rule_attr = 'petal width (cm)'\n",
    "attr_min = 1.5\n",
    "attr_max = None\n",
    "scatter_cols = ['sepal length (cm)',\n",
    "            'sepal width (cm)',\n",
    "            'petal length (cm)',\n",
    "            'petal width (cm)']\n",
    "scatter_rule(df, scatter_cols, rule_attr, attr_min, attr_max)"
   ]
  },
  {
   "cell_type": "code",
   "execution_count": null,
   "metadata": {},
   "outputs": [],
   "source": []
  }
 ],
 "metadata": {
  "kernelspec": {
   "display_name": "Python 3",
   "language": "python",
   "name": "python3"
  },
  "language_info": {
   "codemirror_mode": {
    "name": "ipython",
    "version": 3
   },
   "file_extension": ".py",
   "mimetype": "text/x-python",
   "name": "python",
   "nbconvert_exporter": "python",
   "pygments_lexer": "ipython3",
   "version": "3.8.2"
  }
 },
 "nbformat": 4,
 "nbformat_minor": 4
}
